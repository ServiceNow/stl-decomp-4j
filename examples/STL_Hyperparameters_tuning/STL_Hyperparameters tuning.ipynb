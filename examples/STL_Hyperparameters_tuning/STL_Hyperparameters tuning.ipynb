{
 "cells": [
  {
   "cell_type": "markdown",
   "metadata": {},
   "source": [
    "## STL hyper-parameters tuning"
   ]
  },
  {
   "cell_type": "code",
   "execution_count": 1,
   "metadata": {},
   "outputs": [
    {
     "data": {
      "text/html": [
       "<style>.container { width:100% !important; }</style>"
      ],
      "text/plain": [
       "<IPython.core.display.HTML object>"
      ]
     },
     "metadata": {},
     "output_type": "display_data"
    }
   ],
   "source": [
    "from __future__ import print_function\n",
    "from ipywidgets import interact, interactive, fixed, interact_manual\n",
    "import ipywidgets as widgets\n",
    "\n",
    "# Initialize PyJNIus  \n",
    "import jnius_config\n",
    "jnius_config.add_options('-Xrs','-Xmx4096m')\n",
    "jnius_config.set_classpath('.', 'stl-decomp-4j.jar')\n",
    "import jnius\n",
    "from jnius import autoclass\n",
    "\n",
    "# Standard Imports and Extensions \n",
    "%matplotlib inline\n",
    "import matplotlib as mpl\n",
    "mpl.rcParams['figure.figsize'] = (16.0, 10.0) # (24.0, 15.0)\n",
    "\n",
    "import matplotlib.pyplot as plt\n",
    "import pandas as pd\n",
    "\n",
    "from IPython.core.display import display as core_display, HTML\n",
    "core_display(HTML(\"<style>.container { width:100% !important; }</style>\"))\n",
    "\n",
    "# Load the Java STL classes\n",
    "\n",
    "SeasonalTrendLoess = autoclass('com.github.servicenow.ds.stats.stl.SeasonalTrendLoess')\n",
    "StlBuilder = autoclass('com.github.servicenow.ds.stats.stl.SeasonalTrendLoess$Builder')\n",
    "CyclicSubSeriesSmoother = autoclass('com.github.servicenow.ds.stats.stl.CyclicSubSeriesSmoother')\n",
    "SmoothBuilder = autoclass('com.github.servicenow.ds.stats.stl.CyclicSubSeriesSmoother$Builder')"
   ]
  },
  {
   "cell_type": "markdown",
   "metadata": {},
   "source": [
    "#### Load Data"
   ]
  },
  {
   "cell_type": "code",
   "execution_count": 2,
   "metadata": {},
   "outputs": [],
   "source": [
    "# Load the CO2 Data  \n",
    "\n",
    "time = pd.date_range('3/1/1958 00:00:00', periods=708, freq='M')\n",
    "df = pd.read_csv(\"co2.csv\")\n",
    "df.index = time\n",
    "del df['row']\n",
    "del df['time_years']\n",
    "df.columns = [\"data\"]\n",
    "values = df.data.values.tolist() # Unfortunately, PyJNIus doesn't seem to know about numpy\n",
    "\n",
    "scoreFrequency_and_numberOfPointsPerPeriond = {'Daily': 7, \n",
    "                                               'Weekly': 13, \n",
    "                                               'Bi Weekly':6, \n",
    "                                               'Four Weekly':13, \n",
    "                                               'Monthly':12, \n",
    "                                               'Bi Monthly':6,\n",
    "                                               'Quarterly': 4,\n",
    "                                               'Fiscal Quarterly': 4,\n",
    "                                               'Half Yearly': 2,\n",
    "                                               'Yearly': 4,\n",
    "                                               'Fiscal Yearly': 4}"
   ]
  },
  {
   "cell_type": "markdown",
   "metadata": {},
   "source": [
    "#### Decompose time series and plot results"
   ]
  },
  {
   "cell_type": "code",
   "execution_count": 3,
   "metadata": {},
   "outputs": [
    {
     "data": {
      "application/vnd.jupyter.widget-view+json": {
       "model_id": "f95007bb4eeb48a5867e3bb3f091d411",
       "version_major": 2,
       "version_minor": 0
      },
      "text/plain": [
       "A Jupyter Widget"
      ]
     },
     "metadata": {},
     "output_type": "display_data"
    }
   ],
   "source": [
    "@interact(period_length=scoreFrequency_and_numberOfPointsPerPeriond, seasonal_width=(1,100,1))\n",
    "def decompse_timeseries_using_STL(period_length=12, seasonal_width=35):\n",
    "    # Build the smoother and perform the decomposition\n",
    "    builder = StlBuilder()\n",
    "\n",
    "    smoother = builder. \\\n",
    "        setPeriodLength(period_length). \\\n",
    "        setSeasonalWidth(seasonal_width). \\\n",
    "        setNonRobust(). \\\n",
    "        buildSmoother(values)\n",
    "\n",
    "    stl = smoother.decompose()\n",
    "    seasonal = stl.getSeasonal()\n",
    "    trend = stl.getTrend()\n",
    "    residual = stl.getResidual()\n",
    "    \n",
    "    # Plot the decomposition\n",
    "\n",
    "    fig, axes = plt.subplots(4, sharex=True)\n",
    "\n",
    "    _ = axes[0].plot(df)\n",
    "    axes[0].set_title('data')\n",
    "    _ = axes[1].plot(df.index, trend)\n",
    "    axes[1].set_title('trend')\n",
    "    _ = axes[2].plot(df.index, seasonal)\n",
    "    axes[2].set_title('seasonal')\n",
    "    _ = axes[3].plot(df.index, residual)\n",
    "    axes[3].set_title('residual')"
   ]
  },
  {
   "cell_type": "markdown",
   "metadata": {},
   "source": [
    "### Split data to training and testing sets"
   ]
  },
  {
   "cell_type": "code",
   "execution_count": 4,
   "metadata": {},
   "outputs": [],
   "source": [
    "def split_train_test(period_length, n_periods):\n",
    "    test = values[-(period_length * n_periods):]\n",
    "    train = values[0:len(values)-len(test)]\n",
    "    return train, test"
   ]
  },
  {
   "cell_type": "markdown",
   "metadata": {},
   "source": [
    "### Forecast and plot results"
   ]
  },
  {
   "cell_type": "code",
   "execution_count": 5,
   "metadata": {},
   "outputs": [
    {
     "data": {
      "application/vnd.jupyter.widget-view+json": {
       "model_id": "c3fc4b1a980c4608b50e9a42efff399b",
       "version_major": 2,
       "version_minor": 0
      },
      "text/plain": [
       "A Jupyter Widget"
      ]
     },
     "metadata": {},
     "output_type": "display_data"
    }
   ],
   "source": [
    "def calculate_default_trend_width(periodicity, seasonal_width):\n",
    "    return int(1.5 * periodicity / (1 - 1.5 / seasonal_width) + 0.5);\n",
    "    \n",
    "\n",
    "def extrapolate_trend(trend, number_of_periods, seasonal_width, period_length):\n",
    "    trend_width = calculate_default_trend_width(period_length, seasonal_width)\n",
    "    smooth_builder = SmoothBuilder()    \n",
    "    smoother = smooth_builder \\\n",
    "    .setWidth(trend_width) \\\n",
    "    .setDataLength(len(trend)) \\\n",
    "    .setPeriodicity(period_length) \\\n",
    "    .setNumPeriodsForward(number_of_periods) \\\n",
    "    .setNumPeriodsBackward(0) \\\n",
    "    .build();\n",
    "        \n",
    "    extended_trend_length = len(trend) + number_of_periods * period_length\n",
    "    extended_trend = smoother.smoothSeasonal(trend, extended_trend_length);\n",
    "    \n",
    "    return extended_trend;\n",
    "\n",
    "\n",
    "@interact(period_length=scoreFrequency_and_numberOfPointsPerPeriond, seasonal_width=(1,60,1), number_of_periods=(1,2,1))\n",
    "def forecast_using_STL_and_CyclicSubSeriesSmoother(period_length=12, seasonal_width=35, number_of_periods=1):\n",
    "    \n",
    "    train, test = split_train_test(period_length, number_of_periods)\n",
    "    \n",
    "    # Build the smoother and perform the decomposition\n",
    "    builder = StlBuilder()\n",
    "\n",
    "    smoother = builder. \\\n",
    "        setPeriodLength(period_length). \\\n",
    "        setSeasonalWidth(seasonal_width). \\\n",
    "        setNonRobust(). \\\n",
    "        buildSmoother(train)\n",
    "\n",
    "    stl = smoother.decompose()\n",
    "    seasonal = stl.getSeasonal()\n",
    "    trend = stl.getTrend()\n",
    "    residual = stl.getResidual()\n",
    "    trend_plus_residual = [t + r for t, r in zip(trend, residual)]\n",
    "    \n",
    "    extended_trend = extrapolate_trend(trend_plus_residual, number_of_periods, seasonal_width, period_length)\n",
    "    \n",
    "    forecast = []\n",
    "    forecasting_length = period_length * number_of_periods\n",
    "    \n",
    "    extrapolated_trend_values = extended_trend[len(train):len(extended_trend)]\n",
    "    last_observed_seasonal_values = seasonal[(len(seasonal) - period_length):len(seasonal)]\n",
    "    \n",
    "    for i in range(0, forecasting_length):\n",
    "        forecast.append(extrapolated_trend_values[i] + last_observed_seasonal_values[i % period_length])\n",
    "    \n",
    "    def plot_forecast():  \n",
    "        forecast_x_axis = [i + len(train) for i in range(0, len(forecast))]\n",
    "        fig1 = plt.figure()\n",
    "        ax1 = fig1.add_subplot(211)\n",
    "        ax1.plot(values)  \n",
    "        ax2 = fig1.add_subplot(211)\n",
    "        ax2.plot(forecast_x_axis, forecast)\n",
    "        ax2.set_title('Full dataset with the forecasted values')\n",
    "        \n",
    "        ax3 = fig1.add_subplot(212)\n",
    "        ax3.plot(test)  \n",
    "        ax4 = fig1.add_subplot(212)\n",
    "        ax4.plot(forecast)\n",
    "        ax4.set_title('Testing dataset with the forecasted values')\n",
    "        \n",
    "    plot_forecast()\n",
    "    "
   ]
  },
  {
   "cell_type": "code",
   "execution_count": null,
   "metadata": {},
   "outputs": [],
   "source": []
  }
 ],
 "metadata": {
  "kernelspec": {
   "display_name": "Python 3",
   "language": "python",
   "name": "python3"
  },
  "language_info": {
   "codemirror_mode": {
    "name": "ipython",
    "version": 3
   },
   "file_extension": ".py",
   "mimetype": "text/x-python",
   "name": "python",
   "nbconvert_exporter": "python",
   "pygments_lexer": "ipython3",
   "version": "3.6.1"
  }
 },
 "nbformat": 4,
 "nbformat_minor": 2
}
